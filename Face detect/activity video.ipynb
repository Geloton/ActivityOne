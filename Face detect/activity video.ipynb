{
 "cells": [
  {
   "cell_type": "code",
   "execution_count": 1,
   "id": "35013ccb-8447-4f47-b581-ac87e22422e6",
   "metadata": {},
   "outputs": [
    {
     "name": "stdout",
     "output_type": "stream",
     "text": [
      "Collecting opencv-python\n",
      "  Downloading opencv_python-4.5.5.64-cp36-abi3-win_amd64.whl (35.4 MB)\n",
      "Requirement already satisfied: numpy>=1.19.3 in c:\\users\\gelo\\anaconda3\\lib\\site-packages (from opencv-python) (1.20.3)\n",
      "Installing collected packages: opencv-python\n",
      "Successfully installed opencv-python-4.5.5.64\n"
     ]
    }
   ],
   "source": [
    "import sys\n",
    "!{sys.executable} -m pip install opencv-python"
   ]
  },
  {
   "cell_type": "code",
   "execution_count": null,
   "id": "232d1311-091d-442b-b2b4-836085504104",
   "metadata": {},
   "outputs": [],
   "source": [
    "import cv2  \n",
    "  \n",
    "# Load the cascade  \n",
    "face_cascade = cv2.CascadeClassifier('haarcascade_frontalface_default.xml')  \n",
    "  \n",
    "# To capture video from webcam.   \n",
    "cap = cv2.VideoCapture(0)\n",
    "\n",
    "while True:  \n",
    "    # Read the frame  \n",
    "    _, img = cap.read()  \n",
    "  \n",
    "    # Convert to grayscale  \n",
    "    gray = cv2.cvtColor(img, cv2.COLOR_BGR2GRAY)  \n",
    "  \n",
    "    # Detect the faces  \n",
    "    faces = face_cascade.detectMultiScale(gray, 1.1, 4)  \n",
    "  \n",
    "    # Draw the rectangle around each face  \n",
    "    for (x, y, w, h) in faces:  \n",
    "         cv2.rectangle(img, (x, y), (x+w, y+h), (255, 0, 0), 2)  \n",
    "  \n",
    "    # Display  \n",
    "    cv2.imshow('Video', img)  \n",
    "  \n",
    "    # Stop if escape key is pressed  \n",
    "    k = cv2.waitKey(30) & 0xff  \n",
    "    if k==27:  \n",
    "        break  \n",
    "          \n",
    "# Release the VideoCapture object  \n",
    "cap.release()  "
   ]
  },
  {
   "cell_type": "code",
   "execution_count": null,
   "id": "3199ad47-6ad1-4e6b-ac3c-025685a6df4f",
   "metadata": {},
   "outputs": [],
   "source": []
  },
  {
   "cell_type": "code",
   "execution_count": null,
   "id": "a0e1d5c2-dd73-48d8-97bc-52323f90ecd7",
   "metadata": {},
   "outputs": [],
   "source": []
  }
 ],
 "metadata": {
  "kernelspec": {
   "display_name": "Python 3 (ipykernel)",
   "language": "python",
   "name": "python3"
  },
  "language_info": {
   "codemirror_mode": {
    "name": "ipython",
    "version": 3
   },
   "file_extension": ".py",
   "mimetype": "text/x-python",
   "name": "python",
   "nbconvert_exporter": "python",
   "pygments_lexer": "ipython3",
   "version": "3.9.7"
  }
 },
 "nbformat": 4,
 "nbformat_minor": 5
}
